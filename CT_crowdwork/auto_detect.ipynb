{
 "cells": [
  {
   "cell_type": "code",
   "execution_count": 1,
   "metadata": {},
   "outputs": [],
   "source": [
    "import pyautogui as pg"
   ]
  },
  {
   "cell_type": "code",
   "execution_count": 2,
   "metadata": {},
   "outputs": [],
   "source": [
    "import numpy as np\n",
    "from PIL import Image as im"
   ]
  },
  {
   "cell_type": "code",
   "execution_count": 3,
   "metadata": {},
   "outputs": [],
   "source": [
    "def im_load(img_ori,lu,rb,sz = 3):\n",
    "    img = img_ori.convert('L')\n",
    "    img = img.crop((lu[0],lu[1],rb[0],rb[1]))\n",
    "    img = img.resize((int(img.width/sz),int(img.height/sz)))\n",
    "\n",
    "    img_array = np.array(img)\n",
    "\n",
    "    return img_array"
   ]
  },
  {
   "cell_type": "code",
   "execution_count": 4,
   "metadata": {},
   "outputs": [],
   "source": [
    "img = im.open('brain.png')"
   ]
  },
  {
   "cell_type": "code",
   "execution_count": 5,
   "metadata": {},
   "outputs": [],
   "source": [
    "class zip_map:\n",
    "    def __init__(self,img,lu,rb):\n",
    "        self.map = im_load(img,lu,rb)\n",
    "\n",
    "        self.end_y = len(self.map)\n",
    "        self.end_x = len(self.map[0])\n",
    "\n",
    "        self.st_y = 0\n",
    "        self.st_x = 0\n",
    "\n",
    "        # for y in range(self.st_y,self.end_y):\n",
    "        #     for x in range(self.st_x,self.end_x):\n",
    "        #         if self.map[y][x]<value:\n",
    "        #             self.map[y][x] = 0\n",
    "\n",
    "    def get_max(self,val,f_val):\n",
    "        if val>f_val:\n",
    "            val = f_val\n",
    "        return val\n",
    "\n",
    "    def get_min(self,val,f_val):\n",
    "        if val<f_val:\n",
    "            val = f_val\n",
    "        return val\n",
    "\n",
    "    def get_scope(self,x,y,size):\n",
    "        max_x = self.get_max(x+size,self.end_x)\n",
    "        max_y = self.get_max(y+size,self.end_y)\n",
    "\n",
    "        min_x = self.get_min(x-size,self.st_x)\n",
    "        min_y = self.get_min(y-size,self.st_y)\n",
    "\n",
    "        return (min_x,min_y),(max_x,max_y)\n",
    "                \n",
    "    def get_scope_val(self,x,y,lu,rb):\n",
    "        lst = []\n",
    "        for y in range(lu[1],rb[1]):\n",
    "            for x in range(lu[0],rb[0]):\n",
    "                lst.append(self.map[y][x])\n",
    "\n",
    "        return np.average(lst),np.min(lst)\n",
    "\n",
    "    def clean_map(self, size = 2):\n",
    "        map_new = np.zeros((self.end_y-self.st_y,self.end_x-self.st_x),dtype='uint8')\n",
    "        lst = []\n",
    "\n",
    "        for y in range(self.st_y,self.end_y,4):\n",
    "            for x in range(self.st_x,self.end_x,4):\n",
    "                st_v, end_v = self.get_scope(x,y,size = 4)\n",
    "\n",
    "                val,_ = self.get_scope_val(x,y,st_v,end_v)\n",
    "                val = int(val/5)*5\n",
    "                if val>10:\n",
    "                    lst.append(val)\n",
    "        if len(lst)>0:\n",
    "            th = np.bincount(lst).argmax()\n",
    "        else:\n",
    "            th = 0\n",
    "        \n",
    "        for y in range(self.st_y,self.end_y):\n",
    "            for x in range(self.st_x,self.end_x):\n",
    "                st_v, end_v = self.get_scope(x,y,size = 1)\n",
    "                avg_v,min_v = self.get_scope_val(x,y,st_v,end_v)\n",
    "                avg_v = int(avg_v/5)*5\n",
    "                min_v = int(min_v/5)*5\n",
    "                if min_v>th and avg_v>th+20:\n",
    "                    map_new[y][x] = 255\n",
    "\n",
    "                st_v_n, end_v_n = self.get_scope(x,y,size = 10)\n",
    "                avg_v_n,min_v_n = self.get_scope_val(x,y,st_v,end_v)\n",
    "\n",
    "                if  avg_v_n>235:\n",
    "                    for ay in range(st_v_n[1],end_v_n[1]):\n",
    "                        for ax in range(st_v_n[0],end_v_n[0]):\n",
    "                            map_new[ay][ax] = 0\n",
    "\n",
    "        return map_new\n",
    "\n"
   ]
  },
  {
   "cell_type": "code",
   "execution_count": 6,
   "metadata": {},
   "outputs": [],
   "source": [
    "t = zip_map(img,(10,10),(1000,1000))"
   ]
  },
  {
   "cell_type": "code",
   "execution_count": 7,
   "metadata": {},
   "outputs": [],
   "source": [
    "arr = t.clean_map()"
   ]
  },
  {
   "cell_type": "code",
   "execution_count": 8,
   "metadata": {},
   "outputs": [
    {
     "data": {
      "image/png": "[encoded data removed]",
      "text/plain": [
       "<PIL.Image.Image image mode=L size=330x330>"
      ]
     },
     "execution_count": 8,
     "metadata": {},
     "output_type": "execute_result"
    }
   ],
   "source": [
    "im.fromarray(arr)"
   ]
  }
 ],
 "metadata": {
  "kernelspec": {
   "display_name": "Python 3.8.12 ('nerdsoft')",
   "language": "python",
   "name": "python3"
  },
  "language_info": {
   "codemirror_mode": {
    "name": "ipython",
    "version": 3
   },
   "file_extension": ".py",
   "mimetype": "text/x-python",
   "name": "python",
   "nbconvert_exporter": "python",
   "pygments_lexer": "ipython3",
   "version": "3.8.12"
  },
  "orig_nbformat": 4,
  "vscode": {
   "interpreter": {
    "hash": "5c70cc10a23e8aa6628105173007467c0095a4e251a03cb26e6f20f3c1307308"
   }
  }
 },
 "nbformat": 4,
 "nbformat_minor": 2
}
